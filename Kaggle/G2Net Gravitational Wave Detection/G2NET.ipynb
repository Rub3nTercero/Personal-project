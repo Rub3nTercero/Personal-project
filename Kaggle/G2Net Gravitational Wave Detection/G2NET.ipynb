{
 "cells": [
  {
   "cell_type": "code",
   "execution_count": 1,
   "id": "5262d930",
   "metadata": {
    "_cell_guid": "b1076dfc-b9ad-4769-8c92-a6c4dae69d19",
    "_uuid": "8f2839f25d086af736a60e9eeb907d3b93b6e0e5",
    "execution": {
     "iopub.execute_input": "2021-09-27T14:14:37.282967Z",
     "iopub.status.busy": "2021-09-27T14:14:37.281384Z",
     "iopub.status.idle": "2021-09-27T14:16:55.941112Z",
     "shell.execute_reply": "2021-09-27T14:16:55.940326Z",
     "shell.execute_reply.started": "2021-09-27T14:03:52.220110Z"
    },
    "papermill": {
     "duration": 138.67859,
     "end_time": "2021-09-27T14:16:55.941324",
     "exception": false,
     "start_time": "2021-09-27T14:14:37.262734",
     "status": "completed"
    },
    "tags": []
   },
   "outputs": [],
   "source": [
    "# This Python 3 environment comes with many helpful analytics libraries installed\n",
    "# It is defined by the kaggle/python Docker image: https://github.com/kaggle/docker-python\n",
    "# For example, here's several helpful packages to load\n",
    "\n",
    "import numpy as np # linear algebra\n",
    "import pandas as pd # data processing, CSV file I/O (e.g. pd.read_csv)\n",
    "\n",
    "# Input data files are available in the read-only \"../input/\" directory\n",
    "# For example, running this (by clicking run or pressing Shift+Enter) will list all files under the input directory\n",
    "\n",
    "import os\n",
    "for dirname, _, filenames in os.walk('/kaggle/input'):\n",
    "    for filename in filenames:\n",
    "        os.path.join(dirname, filename)\n",
    "\n",
    "# You can write up to 20GB to the current directory (/kaggle/working/) that gets preserved as output when you create a version using \"Save & Run All\" \n",
    "# You can also write temporary files to /kaggle/temp/, but they won't be saved outside of the current session"
   ]
  },
  {
   "cell_type": "code",
   "execution_count": 2,
   "id": "8484ba91",
   "metadata": {
    "execution": {
     "iopub.execute_input": "2021-09-27T14:16:55.972549Z",
     "iopub.status.busy": "2021-09-27T14:16:55.971400Z",
     "iopub.status.idle": "2021-09-27T14:16:55.974942Z",
     "shell.execute_reply": "2021-09-27T14:16:55.974369Z",
     "shell.execute_reply.started": "2021-09-27T14:06:38.696708Z"
    },
    "papermill": {
     "duration": 0.020634,
     "end_time": "2021-09-27T14:16:55.975105",
     "exception": false,
     "start_time": "2021-09-27T14:16:55.954471",
     "status": "completed"
    },
    "tags": []
   },
   "outputs": [],
   "source": [
    "import numpy as np\n",
    "import pandas as pd\n",
    "np.random.seed(2021)"
   ]
  },
  {
   "cell_type": "code",
   "execution_count": 3,
   "id": "99f44f61",
   "metadata": {
    "execution": {
     "iopub.execute_input": "2021-09-27T14:16:56.006707Z",
     "iopub.status.busy": "2021-09-27T14:16:56.006012Z",
     "iopub.status.idle": "2021-09-27T14:16:57.423844Z",
     "shell.execute_reply": "2021-09-27T14:16:57.424420Z",
     "shell.execute_reply.started": "2021-09-27T14:06:38.706241Z"
    },
    "papermill": {
     "duration": 1.436607,
     "end_time": "2021-09-27T14:16:57.424622",
     "exception": false,
     "start_time": "2021-09-27T14:16:55.988015",
     "status": "completed"
    },
    "tags": []
   },
   "outputs": [],
   "source": [
    "df_worst = pd.read_csv('../input/blending-submission/submission.csv').sort_values('id')\n",
    "\n",
    "#df_worst = pd.read_csv('../input/g2net-874a/submission0.csv').sort_values('id')\n",
    "df_best = pd.read_csv('../input/g2net8767/submission8767.csv').sort_values('id')"
   ]
  },
  {
   "cell_type": "code",
   "execution_count": 4,
   "id": "e20a8584",
   "metadata": {
    "execution": {
     "iopub.execute_input": "2021-09-27T14:16:57.454467Z",
     "iopub.status.busy": "2021-09-27T14:16:57.453685Z",
     "iopub.status.idle": "2021-09-27T14:16:57.477409Z",
     "shell.execute_reply": "2021-09-27T14:16:57.477939Z",
     "shell.execute_reply.started": "2021-09-27T14:06:40.146184Z"
    },
    "papermill": {
     "duration": 0.040752,
     "end_time": "2021-09-27T14:16:57.478117",
     "exception": false,
     "start_time": "2021-09-27T14:16:57.437365",
     "status": "completed"
    },
    "tags": []
   },
   "outputs": [
    {
     "data": {
      "text/html": [
       "<div>\n",
       "<style scoped>\n",
       "    .dataframe tbody tr th:only-of-type {\n",
       "        vertical-align: middle;\n",
       "    }\n",
       "\n",
       "    .dataframe tbody tr th {\n",
       "        vertical-align: top;\n",
       "    }\n",
       "\n",
       "    .dataframe thead th {\n",
       "        text-align: right;\n",
       "    }\n",
       "</style>\n",
       "<table border=\"1\" class=\"dataframe\">\n",
       "  <thead>\n",
       "    <tr style=\"text-align: right;\">\n",
       "      <th></th>\n",
       "      <th>id</th>\n",
       "      <th>target</th>\n",
       "    </tr>\n",
       "  </thead>\n",
       "  <tbody>\n",
       "    <tr>\n",
       "      <th>11</th>\n",
       "      <td>00005bced6</td>\n",
       "      <td>1.000000</td>\n",
       "    </tr>\n",
       "    <tr>\n",
       "      <th>60275</th>\n",
       "      <td>0000806717</td>\n",
       "      <td>0.856250</td>\n",
       "    </tr>\n",
       "    <tr>\n",
       "      <th>180814</th>\n",
       "      <td>0000ef4fe1</td>\n",
       "      <td>0.337500</td>\n",
       "    </tr>\n",
       "    <tr>\n",
       "      <th>120557</th>\n",
       "      <td>00020de251</td>\n",
       "      <td>0.896875</td>\n",
       "    </tr>\n",
       "    <tr>\n",
       "      <th>60273</th>\n",
       "      <td>00024887b5</td>\n",
       "      <td>0.137109</td>\n",
       "    </tr>\n",
       "    <tr>\n",
       "      <th>...</th>\n",
       "      <td>...</td>\n",
       "      <td>...</td>\n",
       "    </tr>\n",
       "    <tr>\n",
       "      <th>180802</th>\n",
       "      <td>ffff4125f1</td>\n",
       "      <td>0.307031</td>\n",
       "    </tr>\n",
       "    <tr>\n",
       "      <th>120535</th>\n",
       "      <td>ffff9d32a6</td>\n",
       "      <td>0.295703</td>\n",
       "    </tr>\n",
       "    <tr>\n",
       "      <th>180794</th>\n",
       "      <td>ffff9f4c1f</td>\n",
       "      <td>0.195508</td>\n",
       "    </tr>\n",
       "    <tr>\n",
       "      <th>225996</th>\n",
       "      <td>ffffa19693</td>\n",
       "      <td>1.000000</td>\n",
       "    </tr>\n",
       "    <tr>\n",
       "      <th>225989</th>\n",
       "      <td>ffffebbfe2</td>\n",
       "      <td>0.075781</td>\n",
       "    </tr>\n",
       "  </tbody>\n",
       "</table>\n",
       "<p>226000 rows × 2 columns</p>\n",
       "</div>"
      ],
      "text/plain": [
       "                id    target\n",
       "11      00005bced6  1.000000\n",
       "60275   0000806717  0.856250\n",
       "180814  0000ef4fe1  0.337500\n",
       "120557  00020de251  0.896875\n",
       "60273   00024887b5  0.137109\n",
       "...            ...       ...\n",
       "180802  ffff4125f1  0.307031\n",
       "120535  ffff9d32a6  0.295703\n",
       "180794  ffff9f4c1f  0.195508\n",
       "225996  ffffa19693  1.000000\n",
       "225989  ffffebbfe2  0.075781\n",
       "\n",
       "[226000 rows x 2 columns]"
      ]
     },
     "execution_count": 4,
     "metadata": {},
     "output_type": "execute_result"
    }
   ],
   "source": [
    "df_best"
   ]
  },
  {
   "cell_type": "code",
   "execution_count": 5,
   "id": "3cc73233",
   "metadata": {
    "execution": {
     "iopub.execute_input": "2021-09-27T14:16:57.511399Z",
     "iopub.status.busy": "2021-09-27T14:16:57.510651Z",
     "iopub.status.idle": "2021-09-27T14:16:57.523984Z",
     "shell.execute_reply": "2021-09-27T14:16:57.524489Z",
     "shell.execute_reply.started": "2021-09-27T14:06:40.169407Z"
    },
    "papermill": {
     "duration": 0.032352,
     "end_time": "2021-09-27T14:16:57.524727",
     "exception": false,
     "start_time": "2021-09-27T14:16:57.492375",
     "status": "completed"
    },
    "tags": []
   },
   "outputs": [
    {
     "data": {
      "text/html": [
       "<div>\n",
       "<style scoped>\n",
       "    .dataframe tbody tr th:only-of-type {\n",
       "        vertical-align: middle;\n",
       "    }\n",
       "\n",
       "    .dataframe tbody tr th {\n",
       "        vertical-align: top;\n",
       "    }\n",
       "\n",
       "    .dataframe thead th {\n",
       "        text-align: right;\n",
       "    }\n",
       "</style>\n",
       "<table border=\"1\" class=\"dataframe\">\n",
       "  <thead>\n",
       "    <tr style=\"text-align: right;\">\n",
       "      <th></th>\n",
       "      <th>id</th>\n",
       "      <th>target</th>\n",
       "    </tr>\n",
       "  </thead>\n",
       "  <tbody>\n",
       "    <tr>\n",
       "      <th>0</th>\n",
       "      <td>00005bced6</td>\n",
       "      <td>0.986722</td>\n",
       "    </tr>\n",
       "    <tr>\n",
       "      <th>1</th>\n",
       "      <td>0000806717</td>\n",
       "      <td>0.869764</td>\n",
       "    </tr>\n",
       "    <tr>\n",
       "      <th>2</th>\n",
       "      <td>0000ef4fe1</td>\n",
       "      <td>0.351356</td>\n",
       "    </tr>\n",
       "    <tr>\n",
       "      <th>3</th>\n",
       "      <td>00020de251</td>\n",
       "      <td>0.777803</td>\n",
       "    </tr>\n",
       "    <tr>\n",
       "      <th>4</th>\n",
       "      <td>00024887b5</td>\n",
       "      <td>0.187268</td>\n",
       "    </tr>\n",
       "    <tr>\n",
       "      <th>...</th>\n",
       "      <td>...</td>\n",
       "      <td>...</td>\n",
       "    </tr>\n",
       "    <tr>\n",
       "      <th>225995</th>\n",
       "      <td>ffff4125f1</td>\n",
       "      <td>0.327610</td>\n",
       "    </tr>\n",
       "    <tr>\n",
       "      <th>225996</th>\n",
       "      <td>ffff9d32a6</td>\n",
       "      <td>0.287527</td>\n",
       "    </tr>\n",
       "    <tr>\n",
       "      <th>225997</th>\n",
       "      <td>ffff9f4c1f</td>\n",
       "      <td>0.239733</td>\n",
       "    </tr>\n",
       "    <tr>\n",
       "      <th>225998</th>\n",
       "      <td>ffffa19693</td>\n",
       "      <td>0.985426</td>\n",
       "    </tr>\n",
       "    <tr>\n",
       "      <th>225999</th>\n",
       "      <td>ffffebbfe2</td>\n",
       "      <td>0.096197</td>\n",
       "    </tr>\n",
       "  </tbody>\n",
       "</table>\n",
       "<p>226000 rows × 2 columns</p>\n",
       "</div>"
      ],
      "text/plain": [
       "                id    target\n",
       "0       00005bced6  0.986722\n",
       "1       0000806717  0.869764\n",
       "2       0000ef4fe1  0.351356\n",
       "3       00020de251  0.777803\n",
       "4       00024887b5  0.187268\n",
       "...            ...       ...\n",
       "225995  ffff4125f1  0.327610\n",
       "225996  ffff9d32a6  0.287527\n",
       "225997  ffff9f4c1f  0.239733\n",
       "225998  ffffa19693  0.985426\n",
       "225999  ffffebbfe2  0.096197\n",
       "\n",
       "[226000 rows x 2 columns]"
      ]
     },
     "execution_count": 5,
     "metadata": {},
     "output_type": "execute_result"
    }
   ],
   "source": [
    "df_worst"
   ]
  },
  {
   "cell_type": "code",
   "execution_count": 6,
   "id": "8a9eb718",
   "metadata": {
    "execution": {
     "iopub.execute_input": "2021-09-27T14:16:57.556845Z",
     "iopub.status.busy": "2021-09-27T14:16:57.556139Z",
     "iopub.status.idle": "2021-09-27T14:16:57.564421Z",
     "shell.execute_reply": "2021-09-27T14:16:57.563781Z",
     "shell.execute_reply.started": "2021-09-27T14:06:40.184615Z"
    },
    "papermill": {
     "duration": 0.026448,
     "end_time": "2021-09-27T14:16:57.564583",
     "exception": false,
     "start_time": "2021-09-27T14:16:57.538135",
     "status": "completed"
    },
    "tags": []
   },
   "outputs": [],
   "source": [
    "df_best.target = df_best.target.values*0.60 + df_worst.target.values*0.40"
   ]
  },
  {
   "cell_type": "code",
   "execution_count": 7,
   "id": "6f22fb33",
   "metadata": {
    "execution": {
     "iopub.execute_input": "2021-09-27T14:16:57.605430Z",
     "iopub.status.busy": "2021-09-27T14:16:57.604441Z",
     "iopub.status.idle": "2021-09-27T14:16:57.608473Z",
     "shell.execute_reply": "2021-09-27T14:16:57.608948Z",
     "shell.execute_reply.started": "2021-09-27T14:06:40.195417Z"
    },
    "papermill": {
     "duration": 0.030654,
     "end_time": "2021-09-27T14:16:57.609132",
     "exception": false,
     "start_time": "2021-09-27T14:16:57.578478",
     "status": "completed"
    },
    "tags": []
   },
   "outputs": [
    {
     "data": {
      "text/html": [
       "<div>\n",
       "<style scoped>\n",
       "    .dataframe tbody tr th:only-of-type {\n",
       "        vertical-align: middle;\n",
       "    }\n",
       "\n",
       "    .dataframe tbody tr th {\n",
       "        vertical-align: top;\n",
       "    }\n",
       "\n",
       "    .dataframe thead th {\n",
       "        text-align: right;\n",
       "    }\n",
       "</style>\n",
       "<table border=\"1\" class=\"dataframe\">\n",
       "  <thead>\n",
       "    <tr style=\"text-align: right;\">\n",
       "      <th></th>\n",
       "      <th>id</th>\n",
       "      <th>target</th>\n",
       "    </tr>\n",
       "  </thead>\n",
       "  <tbody>\n",
       "    <tr>\n",
       "      <th>11</th>\n",
       "      <td>00005bced6</td>\n",
       "      <td>0.994689</td>\n",
       "    </tr>\n",
       "    <tr>\n",
       "      <th>60275</th>\n",
       "      <td>0000806717</td>\n",
       "      <td>0.861656</td>\n",
       "    </tr>\n",
       "    <tr>\n",
       "      <th>180814</th>\n",
       "      <td>0000ef4fe1</td>\n",
       "      <td>0.343043</td>\n",
       "    </tr>\n",
       "    <tr>\n",
       "      <th>120557</th>\n",
       "      <td>00020de251</td>\n",
       "      <td>0.849246</td>\n",
       "    </tr>\n",
       "    <tr>\n",
       "      <th>60273</th>\n",
       "      <td>00024887b5</td>\n",
       "      <td>0.157173</td>\n",
       "    </tr>\n",
       "    <tr>\n",
       "      <th>...</th>\n",
       "      <td>...</td>\n",
       "      <td>...</td>\n",
       "    </tr>\n",
       "    <tr>\n",
       "      <th>180802</th>\n",
       "      <td>ffff4125f1</td>\n",
       "      <td>0.315263</td>\n",
       "    </tr>\n",
       "    <tr>\n",
       "      <th>120535</th>\n",
       "      <td>ffff9d32a6</td>\n",
       "      <td>0.292433</td>\n",
       "    </tr>\n",
       "    <tr>\n",
       "      <th>180794</th>\n",
       "      <td>ffff9f4c1f</td>\n",
       "      <td>0.213198</td>\n",
       "    </tr>\n",
       "    <tr>\n",
       "      <th>225996</th>\n",
       "      <td>ffffa19693</td>\n",
       "      <td>0.994170</td>\n",
       "    </tr>\n",
       "    <tr>\n",
       "      <th>225989</th>\n",
       "      <td>ffffebbfe2</td>\n",
       "      <td>0.083948</td>\n",
       "    </tr>\n",
       "  </tbody>\n",
       "</table>\n",
       "<p>226000 rows × 2 columns</p>\n",
       "</div>"
      ],
      "text/plain": [
       "                id    target\n",
       "11      00005bced6  0.994689\n",
       "60275   0000806717  0.861656\n",
       "180814  0000ef4fe1  0.343043\n",
       "120557  00020de251  0.849246\n",
       "60273   00024887b5  0.157173\n",
       "...            ...       ...\n",
       "180802  ffff4125f1  0.315263\n",
       "120535  ffff9d32a6  0.292433\n",
       "180794  ffff9f4c1f  0.213198\n",
       "225996  ffffa19693  0.994170\n",
       "225989  ffffebbfe2  0.083948\n",
       "\n",
       "[226000 rows x 2 columns]"
      ]
     },
     "execution_count": 7,
     "metadata": {},
     "output_type": "execute_result"
    }
   ],
   "source": [
    "df_best"
   ]
  },
  {
   "cell_type": "code",
   "execution_count": 8,
   "id": "6a3db205",
   "metadata": {
    "execution": {
     "iopub.execute_input": "2021-09-27T14:16:57.640758Z",
     "iopub.status.busy": "2021-09-27T14:16:57.639388Z",
     "iopub.status.idle": "2021-09-27T14:16:58.160309Z",
     "shell.execute_reply": "2021-09-27T14:16:58.159740Z",
     "shell.execute_reply.started": "2021-09-27T14:06:40.216301Z"
    },
    "papermill": {
     "duration": 0.537759,
     "end_time": "2021-09-27T14:16:58.160469",
     "exception": false,
     "start_time": "2021-09-27T14:16:57.622710",
     "status": "completed"
    },
    "tags": []
   },
   "outputs": [],
   "source": [
    "effn = pd.read_csv('../input/specialdata/1dcnn_folds_0_1_2_3.csv').sort_values('id')"
   ]
  },
  {
   "cell_type": "code",
   "execution_count": 9,
   "id": "09a97330",
   "metadata": {
    "execution": {
     "iopub.execute_input": "2021-09-27T14:16:58.193322Z",
     "iopub.status.busy": "2021-09-27T14:16:58.192563Z",
     "iopub.status.idle": "2021-09-27T14:16:58.197287Z",
     "shell.execute_reply": "2021-09-27T14:16:58.197766Z",
     "shell.execute_reply.started": "2021-09-27T14:06:40.797305Z"
    },
    "papermill": {
     "duration": 0.023648,
     "end_time": "2021-09-27T14:16:58.197973",
     "exception": false,
     "start_time": "2021-09-27T14:16:58.174325",
     "status": "completed"
    },
    "tags": []
   },
   "outputs": [],
   "source": [
    "effn.target =  df_best.target.values*0.65 + effn.target.values*0.35"
   ]
  },
  {
   "cell_type": "code",
   "execution_count": 10,
   "id": "c767513e",
   "metadata": {
    "execution": {
     "iopub.execute_input": "2021-09-27T14:16:58.231155Z",
     "iopub.status.busy": "2021-09-27T14:16:58.230466Z",
     "iopub.status.idle": "2021-09-27T14:16:59.133532Z",
     "shell.execute_reply": "2021-09-27T14:16:59.132519Z",
     "shell.execute_reply.started": "2021-09-27T14:06:40.808251Z"
    },
    "papermill": {
     "duration": 0.921871,
     "end_time": "2021-09-27T14:16:59.133726",
     "exception": false,
     "start_time": "2021-09-27T14:16:58.211855",
     "status": "completed"
    },
    "tags": []
   },
   "outputs": [],
   "source": [
    "effn.to_csv(\"submission1.csv\", index=False)"
   ]
  },
  {
   "cell_type": "code",
   "execution_count": 11,
   "id": "ab54762f",
   "metadata": {
    "execution": {
     "iopub.execute_input": "2021-09-27T14:16:59.166530Z",
     "iopub.status.busy": "2021-09-27T14:16:59.165838Z",
     "iopub.status.idle": "2021-09-27T14:16:59.635850Z",
     "shell.execute_reply": "2021-09-27T14:16:59.636398Z",
     "shell.execute_reply.started": "2021-09-27T14:06:41.737047Z"
    },
    "papermill": {
     "duration": 0.488825,
     "end_time": "2021-09-27T14:16:59.636574",
     "exception": false,
     "start_time": "2021-09-27T14:16:59.147749",
     "status": "completed"
    },
    "tags": []
   },
   "outputs": [],
   "source": [
    "arxiv = pd.read_csv('../input/specialdata/1dcnn_folds_0_1_2_3.csv').sort_values('id')"
   ]
  },
  {
   "cell_type": "code",
   "execution_count": 12,
   "id": "6e7f7ff2",
   "metadata": {
    "execution": {
     "iopub.execute_input": "2021-09-27T14:16:59.668457Z",
     "iopub.status.busy": "2021-09-27T14:16:59.667735Z",
     "iopub.status.idle": "2021-09-27T14:16:59.673855Z",
     "shell.execute_reply": "2021-09-27T14:16:59.674358Z",
     "shell.execute_reply.started": "2021-09-27T14:06:42.228369Z"
    },
    "papermill": {
     "duration": 0.023564,
     "end_time": "2021-09-27T14:16:59.674545",
     "exception": false,
     "start_time": "2021-09-27T14:16:59.650981",
     "status": "completed"
    },
    "tags": []
   },
   "outputs": [],
   "source": [
    "arxiv.target = effn.target.values*0.4 + arxiv.target.values*0.6"
   ]
  },
  {
   "cell_type": "code",
   "execution_count": 13,
   "id": "41dc949e",
   "metadata": {
    "execution": {
     "iopub.execute_input": "2021-09-27T14:16:59.705654Z",
     "iopub.status.busy": "2021-09-27T14:16:59.704984Z",
     "iopub.status.idle": "2021-09-27T14:17:00.602291Z",
     "shell.execute_reply": "2021-09-27T14:17:00.602783Z",
     "shell.execute_reply.started": "2021-09-27T14:06:42.237500Z"
    },
    "papermill": {
     "duration": 0.914702,
     "end_time": "2021-09-27T14:17:00.603022",
     "exception": false,
     "start_time": "2021-09-27T14:16:59.688320",
     "status": "completed"
    },
    "tags": []
   },
   "outputs": [],
   "source": [
    "arxiv.to_csv(\"submission0.csv\", index=False)"
   ]
  },
  {
   "cell_type": "code",
   "execution_count": null,
   "id": "6f955eb8",
   "metadata": {
    "papermill": {
     "duration": 0.013919,
     "end_time": "2021-09-27T14:17:00.631768",
     "exception": false,
     "start_time": "2021-09-27T14:17:00.617849",
     "status": "completed"
    },
    "tags": []
   },
   "outputs": [],
   "source": []
  }
 ],
 "metadata": {
  "kernelspec": {
   "display_name": "Python 3",
   "language": "python",
   "name": "python3"
  },
  "language_info": {
   "codemirror_mode": {
    "name": "ipython",
    "version": 3
   },
   "file_extension": ".py",
   "mimetype": "text/x-python",
   "name": "python",
   "nbconvert_exporter": "python",
   "pygments_lexer": "ipython3",
   "version": "3.7.10"
  },
  "papermill": {
   "default_parameters": {},
   "duration": 153.863664,
   "end_time": "2021-09-27T14:17:01.358460",
   "environment_variables": {},
   "exception": null,
   "input_path": "__notebook__.ipynb",
   "output_path": "__notebook__.ipynb",
   "parameters": {},
   "start_time": "2021-09-27T14:14:27.494796",
   "version": "2.3.3"
  }
 },
 "nbformat": 4,
 "nbformat_minor": 5
}
